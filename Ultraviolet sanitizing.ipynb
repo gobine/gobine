{
 "cells": [
  {
   "cell_type": "markdown",
   "id": "2bf28c09-394e-4725-a7a9-b4847586db4f",
   "metadata": {},
   "source": [
    "# 1. 参展样机UVC灯管套件的设计\n",
    "\n",
    "* 型号:GPH610T5L/HO\n",
    "* 管直径:&oslash;15mm\n",
    "* 安装长度:610mm\n",
    "* 弧长:530mm\n",
    "* 功率:55W\n",
    "* UVC在254nm处强度:168uW/cm<sup>2</sup>\n",
    "* UVC在254nm处输出功率:17.5W\n",
    "* 寿命:16000hrs"
   ]
  },
  {
   "cell_type": "code",
   "execution_count": 2,
   "id": "f06fbca8-623c-4fdb-806a-fba9447e4d24",
   "metadata": {},
   "outputs": [
    {
     "name": "stdout",
     "output_type": "stream",
     "text": [
      "合理的管道内径是: 7.46 cm\n",
      "管道长度: 159.00 cm\n",
      "暴露时间: 2.50 秒\n",
      "紫外线剂量: 6.78 mWs/cm²\n"
     ]
    }
   ],
   "source": [
    "import numpy as np\n",
    "\n",
    "# 初始条件\n",
    "lamp_power = 55  # 灯管功率，单位：瓦\n",
    "efficiency = 0.3  # 灯管能量输出效率\n",
    "UVC_output = lamp_power * efficiency  # 实际紫外线输出功率，单位：瓦\n",
    "UVC_output_mW = UVC_output * 1000  # 转换为毫瓦\n",
    "\n",
    "lamp_length = 53  # 灯管弧长，单位：cm\n",
    "\n",
    "# 大肠杆菌99%消杀剂量，单位：mWs/cm²\n",
    "required_dose = 6.6  # 消杀剂量\n",
    "\n",
    "# 最小消杀时间，单位：秒\n",
    "min_exposure_time = 2.5  # 秒\n",
    "\n",
    "# 水流量，单位：立方米每小时\n",
    "flow_rate_m3h = 10  # 立方米每小时\n",
    "flow_rate_cm3s = flow_rate_m3h * 1e6 / 3600  # 转换为立方厘米每秒\n",
    "\n",
    "# 石英套管和灯管寿命因素\n",
    "quartz_transmittance = 0.9  # 石英套管透过率\n",
    "lamp_lifetime_factor = 0.8  # 灯管寿命缩短后的效率\n",
    "scaling_factor = 0.85  # 石英套管结垢后的透过率\n",
    "\n",
    "# 综合效率计算\n",
    "combined_efficiency = efficiency * quartz_transmittance * lamp_lifetime_factor * scaling_factor\n",
    "UVC_output_combined_mW = lamp_power * combined_efficiency * 1000  # 综合效率下的紫外线输出功率，单位：mW\n",
    "\n",
    "# 控制管道内径在100mm以内，并保证管道长度是灯管长度的整数倍\n",
    "max_diameter = 8.2  # 管道最大内径，单位：cm\n",
    "\n",
    "# 计算合理的管道直径和长度\n",
    "def calculate_pipe_dimensions(flow_rate_cm3s, lamp_length, required_dose, UVC_output_combined_mW, min_exposure_time, max_diameter):\n",
    "    for num_lamps in range(1, 11):\n",
    "        total_length = lamp_length * num_lamps  # 总管道长度，单位：cm\n",
    "        for diameter_cm in np.linspace(1, max_diameter, 1000):\n",
    "            cross_section_area = np.pi * (diameter_cm / 2) ** 2  # 管道截面积，单位：cm²\n",
    "            flow_speed = flow_rate_cm3s / cross_section_area  # 流速，单位：cm/s\n",
    "            exposure_time = total_length / flow_speed  # 暴露时间，单位：秒\n",
    "\n",
    "            if exposure_time >= min_exposure_time:\n",
    "                intensity = UVC_output_combined_mW / (2 * np.pi * total_length * (diameter_cm / 2))  # 初始强度，单位：mW/cm²\n",
    "                dose = intensity * exposure_time  # 剂量，单位：mWs/cm²\n",
    "                if dose >= required_dose:\n",
    "                    return diameter_cm, total_length, exposure_time, dose\n",
    "\n",
    "    return None, None, None, None\n",
    "\n",
    "# 计算合理的管道直径和长度\n",
    "diameter, length, exposure_time, dose = calculate_pipe_dimensions(flow_rate_cm3s, lamp_length, required_dose, \n",
    "                                                                  UVC_output_combined_mW, min_exposure_time, max_diameter)\n",
    "\n",
    "if diameter:\n",
    "    print(f\"合理的管道内径是: {diameter:.2f} cm\")\n",
    "    print(f\"管道长度: {length:.2f} cm\")\n",
    "    print(f\"暴露时间: {exposure_time:.2f} 秒\")\n",
    "    print(f\"紫外线剂量: {dose:.2f} mWs/cm²\")\n",
    "else:\n",
    "    print(\"找不到合理的管道内径和长度。\")"
   ]
  },
  {
   "cell_type": "code",
   "execution_count": null,
   "id": "33cc7e20-39a1-46e9-8c19-94f3b194b9f6",
   "metadata": {},
   "outputs": [],
   "source": []
  }
 ],
 "metadata": {
  "kernelspec": {
   "display_name": "Python 3 (ipykernel)",
   "language": "python",
   "name": "python3"
  },
  "language_info": {
   "codemirror_mode": {
    "name": "ipython",
    "version": 3
   },
   "file_extension": ".py",
   "mimetype": "text/x-python",
   "name": "python",
   "nbconvert_exporter": "python",
   "pygments_lexer": "ipython3",
   "version": "3.10.6"
  }
 },
 "nbformat": 4,
 "nbformat_minor": 5
}
